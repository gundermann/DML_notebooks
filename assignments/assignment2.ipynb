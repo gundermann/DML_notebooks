{
 "cells": [
  {
   "cell_type": "markdown",
   "metadata": {},
   "source": [
    "# PCA and Eigendecomposition"
   ]
  },
  {
   "cell_type": "markdown",
   "metadata": {},
   "source": [
    "## Steps"
   ]
  },
  {
   "cell_type": "markdown",
   "metadata": {},
   "source": [
    "1. Generate bi-variate normal random numbers\n",
    "2. Perform PCA on the bi-variate normal random numbers\n",
    "3. Perform PCA step-by-step\n",
    "4. Perform eigendecomposition step-by-step"
   ]
  },
  {
   "cell_type": "markdown",
   "metadata": {},
   "source": [
    "## Generate bi-variate normal random numbers"
   ]
  },
  {
   "cell_type": "markdown",
   "metadata": {},
   "source": [
    "Generate random numbers from the same multivariate normal distribution. Define $\\mu$ and $\\mathit{Cov}$, and generate $100$ random numbers.\n",
    "\n",
    "Covariances of multivariate normal distributions, specified as a $d$-by-$d$ (here $d=2$) symmetric, positive semi-definite matrix $\\mathit{Cov}$, the covariance matrix. The covariance matrix is diagonal, containing variances along the diagonal and the covariance off it."
   ]
  },
  {
   "cell_type": "code",
   "execution_count": 151,
   "metadata": {},
   "outputs": [],
   "source": [
    "import numpy as np\n",
    "mu = [2, 3]\n",
    "cov = [[2, 1.5], [1.5, 4]]\n",
    "np.random.seed(42)\n",
    "data = np.random.multivariate_normal(mu, cov, 100)"
   ]
  },
  {
   "cell_type": "markdown",
   "metadata": {},
   "source": [
    "Plot the random numbers."
   ]
  },
  {
   "cell_type": "code",
   "execution_count": 152,
   "metadata": {},
   "outputs": [
    {
     "data": {
      "image/png": "[encoded data removed]",
      "text/plain": [
       "<Figure size 640x480 with 1 Axes>"
      ]
     },
     "metadata": {},
     "output_type": "display_data"
    }
   ],
   "source": [
    "import matplotlib.pyplot as plt\n",
    "\n",
    "plt.scatter(data[:,0], data[:,1], marker='+')\n",
    "plt.show()"
   ]
  },
  {
   "cell_type": "markdown",
   "metadata": {},
   "source": [
    "Check sample variance and covariance of the generated data points and the sample correlation between the variables."
   ]
  },
  {
   "cell_type": "code",
   "execution_count": 153,
   "metadata": {
    "scrolled": true
   },
   "outputs": [
    {
     "name": "stdout",
     "output_type": "stream",
     "text": [
      "          0         1\n",
      "0  1.767814  1.004967\n",
      "1  1.004967  2.948421\n",
      "          0         1\n",
      "0  1.000000  0.440189\n",
      "1  0.440189  1.000000\n"
     ]
    }
   ],
   "source": [
    "import pandas as pd\n",
    "\n",
    "cov = pd.DataFrame(np.cov(data, rowvar=False)) # used pandas here just to get a pretty output\n",
    "print(cov)\n",
    "\n",
    "print(pd.DataFrame(np.corrcoef(data, rowvar=False))) # used pandas here just to get a pretty output\n"
   ]
  },
  {
   "cell_type": "markdown",
   "metadata": {},
   "source": [
    "Covariance and variance: \n",
    "$$\\mathit{Cov}(X,Y)=\\frac{1}{n}\\sum_{i=1}^n((x_i-\\mu_X)(y_i-\\mu_Y))$$\n",
    "$$\\mathit{Var}(X)=\\mathit{Cov}(X,X)=\\sigma_X^2$$ \n",
    "\n",
    "Pearson's coefficient of correlation $$\\mathit{Cor}(X, Y)=\\frac{\\mathit{Cov}(X, Y)}{\\sigma_X \\sigma_Y}=\\frac{\\mathit{Cov}(X, Y)}{\\sqrt{\\mathit{Var}(X)} \\sqrt{\\mathit{Var}(Y)}}$$ \n",
    "\n",
    "In our example $\\mathit{Cov}(X, Y)=1.004967$, $\\mathit{Var}(X)=1.767814$, and $\\mathit{Var}(Y)=2.948421$. As expected:"
   ]
  },
  {
   "cell_type": "code",
   "execution_count": 154,
   "metadata": {},
   "outputs": [
    {
     "data": {
      "text/plain": [
       "0.44018857744365814"
      ]
     },
     "execution_count": 154,
     "metadata": {},
     "output_type": "execute_result"
    }
   ],
   "source": [
    "import math\n",
    "\n",
    "1.004967 / (math.sqrt(1.767814)*math.sqrt(2.948421))"
   ]
  },
  {
   "cell_type": "markdown",
   "metadata": {},
   "source": [
    "## Perform PCA on the bi-variate normal random numbers"
   ]
  },
  {
   "cell_type": "code",
   "execution_count": 155,
   "metadata": {},
   "outputs": [
    {
     "name": "stdout",
     "output_type": "stream",
     "text": [
      "loading vector: [[ 0.4967515   0.86789282]\n",
      " [-0.86789282  0.4967515 ]]\n",
      "eigenvalues: [3.52362929 1.19260592]\n",
      "variability explained: [0.74712756 0.25287244]\n"
     ]
    }
   ],
   "source": [
    "from sklearn.decomposition import PCA\n",
    "\n",
    "pca = PCA(n_components=2)\n",
    "\n",
    "pca.fit(data)\n",
    "\n",
    "loading_vector = pca.components_\n",
    "eigenvalues = pca.explained_variance_\n",
    "variability_explained = pca.explained_variance_ratio_\n",
    "score = pca.transform(data)\n",
    "\n",
    "print(f'loading vector: {loading_vector}')\n",
    "print(f'eigenvalues: {eigenvalues}')\n",
    "print(f'variability explained: {variability_explained}')\n"
   ]
  },
  {
   "cell_type": "markdown",
   "metadata": {},
   "source": [
    "Check the correlation of the scores. As expected:"
   ]
  },
  {
   "cell_type": "code",
   "execution_count": 156,
   "metadata": {},
   "outputs": [
    {
     "data": {
      "text/html": [
       "<div>\n",
       "<style scoped>\n",
       "    .dataframe tbody tr th:only-of-type {\n",
       "        vertical-align: middle;\n",
       "    }\n",
       "\n",
       "    .dataframe tbody tr th {\n",
       "        vertical-align: top;\n",
       "    }\n",
       "\n",
       "    .dataframe thead th {\n",
       "        text-align: right;\n",
       "    }\n",
       "</style>\n",
       "<table border=\"1\" class=\"dataframe\">\n",
       "  <thead>\n",
       "    <tr style=\"text-align: right;\">\n",
       "      <th></th>\n",
       "      <th>0</th>\n",
       "      <th>1</th>\n",
       "    </tr>\n",
       "  </thead>\n",
       "  <tbody>\n",
       "    <tr>\n",
       "      <th>0</th>\n",
       "      <td>1.000000e+00</td>\n",
       "      <td>-1.422344e-16</td>\n",
       "    </tr>\n",
       "    <tr>\n",
       "      <th>1</th>\n",
       "      <td>-1.422344e-16</td>\n",
       "      <td>1.000000e+00</td>\n",
       "    </tr>\n",
       "  </tbody>\n",
       "</table>\n",
       "</div>"
      ],
      "text/plain": [
       "              0             1\n",
       "0  1.000000e+00 -1.422344e-16\n",
       "1 -1.422344e-16  1.000000e+00"
      ]
     },
     "execution_count": 156,
     "metadata": {},
     "output_type": "execute_result"
    }
   ],
   "source": [
    "pd.DataFrame(np.corrcoef(score, rowvar=False)) # used pandas here just to get a pretty output"
   ]
  },
  {
   "cell_type": "markdown",
   "metadata": {},
   "source": [
    "The eigenvectors are unit vectors and orthogonal, therefore the $L2$-Norm is $1$ and the inner (scalar, dot) product is 0."
   ]
  },
  {
   "cell_type": "code",
   "execution_count": 157,
   "metadata": {},
   "outputs": [
    {
     "name": "stdout",
     "output_type": "stream",
     "text": [
      "L2-norm loading vector 1: 1.0\n",
      "L2-norm loading vector 2: 1.0\n",
      "dot product of loading vector 1 and 2: 0.0\n"
     ]
    }
   ],
   "source": [
    "print(f'L2-norm loading vector 1: {np.linalg.norm(loading_vector[0])}')\n",
    "print(f'L2-norm loading vector 2: {np.linalg.norm(loading_vector[1])}')\n",
    "print(f'dot product of loading vector 1 and 2: {np.dot(loading_vector[0], loading_vector[1])}')"
   ]
  },
  {
   "cell_type": "markdown",
   "metadata": {},
   "source": [
    "Produce a biplot of the scores and loading vectors of the two principle components."
   ]
  },
  {
   "cell_type": "code",
   "execution_count": 158,
   "metadata": {},
   "outputs": [
    {
     "data": {
      "image/png": "[encoded data removed]",
      "text/plain": [
       "<Figure size 640x480 with 1 Axes>"
      ]
     },
     "metadata": {},
     "output_type": "display_data"
    }
   ],
   "source": [
    "plt.scatter(score[:,0], score[:,1], c='r', s=2)\n",
    "\n",
    "x1 = loading_vector[0,0]\n",
    "y1 = loading_vector[0,1]\n",
    "plt.arrow(0, 0, x1, y1, color='b', alpha=0.5)\n",
    "plt.text(x1, y1, \"V1\")\n",
    "\n",
    "x2 = loading_vector[1,0]\n",
    "y2 = loading_vector[1,1]\n",
    "plt.arrow(0, 0, x2, y2, color='b', alpha=0.5)\n",
    "plt.text(x2, y2, \"V2\")\n",
    "\n",
    "plt.xlabel('Compoment 1')\n",
    "plt.ylabel('Compoment 2')\n",
    "plt.show()"
   ]
  },
  {
   "cell_type": "markdown",
   "metadata": {},
   "source": [
    "## Perform PCA step-by-step"
   ]
  },
  {
   "cell_type": "markdown",
   "metadata": {},
   "source": [
    "1. Center and Standardize, i.e., subtracting the mean of the data from the original dataset\n",
    "2. Find the covariance matrix of the dataset\n",
    "3. Find the eigenvectors associated with the greatest eigenvalues of the covariance matrix\n",
    "4. Project the original dataset on the eigenvectors"
   ]
  },
  {
   "cell_type": "markdown",
   "metadata": {},
   "source": [
    "### Standardize"
   ]
  },
  {
   "cell_type": "markdown",
   "metadata": {},
   "source": [
    "Compute standard scores (commonly called $z$-scores) defined as $z_i=\\frac{x_i-\\mu_X}{\\sigma_X}$."
   ]
  },
  {
   "cell_type": "code",
   "execution_count": 159,
   "metadata": {},
   "outputs": [
    {
     "data": {
      "image/png": "[encoded data removed]",
      "text/plain": [
       "<Figure size 640x480 with 1 Axes>"
      ]
     },
     "metadata": {},
     "output_type": "display_data"
    }
   ],
   "source": [
    "std_data = np.copy(data)\n",
    "\n",
    "std_data[:,0] = (data[:,0] - np.mean(data[:,0]))/math.sqrt(1.767814)\n",
    "std_data[:,1] = (data[:,1] - np.mean(data[:,1]))/math.sqrt(2.948421)\n",
    "\n",
    "\n",
    "\n",
    "plt.scatter(std_data[:,0], std_data[:,1], c='r', s=2)\n",
    "plt.show()"
   ]
  },
  {
   "cell_type": "markdown",
   "metadata": {},
   "source": [
    "### Find the covariance matrix "
   ]
  },
  {
   "cell_type": "markdown",
   "metadata": {},
   "source": [
    "As before. Check out the effect of standardization on the covariance matrix."
   ]
  },
  {
   "cell_type": "code",
   "execution_count": 160,
   "metadata": {},
   "outputs": [
    {
     "data": {
      "text/html": [
       "<div>\n",
       "<style scoped>\n",
       "    .dataframe tbody tr th:only-of-type {\n",
       "        vertical-align: middle;\n",
       "    }\n",
       "\n",
       "    .dataframe tbody tr th {\n",
       "        vertical-align: top;\n",
       "    }\n",
       "\n",
       "    .dataframe thead th {\n",
       "        text-align: right;\n",
       "    }\n",
       "</style>\n",
       "<table border=\"1\" class=\"dataframe\">\n",
       "  <thead>\n",
       "    <tr style=\"text-align: right;\">\n",
       "      <th></th>\n",
       "      <th>0</th>\n",
       "      <th>1</th>\n",
       "    </tr>\n",
       "  </thead>\n",
       "  <tbody>\n",
       "    <tr>\n",
       "      <th>0</th>\n",
       "      <td>1.000000</td>\n",
       "      <td>0.440189</td>\n",
       "    </tr>\n",
       "    <tr>\n",
       "      <th>1</th>\n",
       "      <td>0.440189</td>\n",
       "      <td>1.000000</td>\n",
       "    </tr>\n",
       "  </tbody>\n",
       "</table>\n",
       "</div>"
      ],
      "text/plain": [
       "          0         1\n",
       "0  1.000000  0.440189\n",
       "1  0.440189  1.000000"
      ]
     },
     "execution_count": 160,
     "metadata": {},
     "output_type": "execute_result"
    }
   ],
   "source": [
    "cov = np.cov(std_data, rowvar=False)\n",
    "pd.DataFrame(cov) # just for pretty printingcov"
   ]
  },
  {
   "cell_type": "markdown",
   "metadata": {},
   "source": [
    "### Find the eigenvectors and eigenvalues "
   ]
  },
  {
   "cell_type": "markdown",
   "metadata": {},
   "source": [
    "Recall the definition of eigenvectors $v$ and -values $\\lambda$: $A v = \\lambda v$, where $A$ is an $n$-by-$n$ matrix, $v$ is a column vector of length $n$, and $\\lambda$ is a scalar."
   ]
  },
  {
   "cell_type": "code",
   "execution_count": 161,
   "metadata": {},
   "outputs": [
    {
     "name": "stdout",
     "output_type": "stream",
     "text": [
      "lambda = [0.55981135 1.44018873]\n",
      "vectors = [[-0.7071068  -0.70710677]\n",
      " [ 0.70710677 -0.7071068 ]]\n"
     ]
    }
   ],
   "source": [
    "eigenvalues, eigenvectors = np.linalg.eig(cov)\n",
    "\n",
    "print(f'lambda = {eigenvalues}')\n",
    "print(f'vectors = {eigenvectors}')"
   ]
  },
  {
   "cell_type": "markdown",
   "metadata": {},
   "source": [
    "Mind that the second eigenvalue of $1.6253$ is larger than the first eigenvalue of $0.3747$.\n",
    "\n",
    "*It is the same in my case, but the values are different, which is obivous, since I used other data.*"
   ]
  },
  {
   "cell_type": "markdown",
   "metadata": {},
   "source": [
    "Lets check if $\\mathit{Cov}\\ v=\\lambda v$ for the two eigenvectors and -values. As expected:"
   ]
  },
  {
   "cell_type": "code",
   "execution_count": 162,
   "metadata": {},
   "outputs": [
    {
     "name": "stdout",
     "output_type": "stream",
     "text": [
      "[-0.39584641  0.39584639]\n",
      "[-0.39584641  0.39584639]\n",
      "Diff: [5.55111512e-17 5.55111512e-17]\n"
     ]
    }
   ],
   "source": [
    "print(np.dot(cov,eigenvectors[:,0]))\n",
    "print(eigenvalues[0] * eigenvectors[:,0])\n",
    "print(f'Diff: {np.dot(cov,eigenvectors[:,0]) - eigenvalues[0] * eigenvectors[:,0]}')"
   ]
  },
  {
   "cell_type": "code",
   "execution_count": 163,
   "metadata": {},
   "outputs": [
    {
     "name": "stdout",
     "output_type": "stream",
     "text": [
      "[-1.01836719 -1.01836724]\n",
      "[-1.01836719 -1.01836724]\n",
      "Diff: [2.22044605e-16 0.00000000e+00]\n"
     ]
    }
   ],
   "source": [
    "print(np.dot(cov,eigenvectors[:,1]))\n",
    "print(eigenvalues[1] * eigenvectors[:,1])\n",
    "print(f'Diff: {np.dot(cov,eigenvectors[:,1]) - eigenvalues[1] * eigenvectors[:,1]}')"
   ]
  },
  {
   "cell_type": "markdown",
   "metadata": {},
   "source": [
    "The eigenvectors returned are unit vectors and orthogonal, therefore the $2$-Norm is $1$ and the inner (scalar, dot) product is 0."
   ]
  },
  {
   "cell_type": "code",
   "execution_count": 164,
   "metadata": {},
   "outputs": [
    {
     "name": "stdout",
     "output_type": "stream",
     "text": [
      "Vector 1 length: 0.9999999999999999\n",
      "Vector 2 length: 0.9999999999999999\n",
      "Vector 1 orthogonal to vector 2, if dot product is zero; dot product: 0.0\n"
     ]
    }
   ],
   "source": [
    "print(f'Vector 1 length: {np.linalg.norm(eigenvectors[:,0])}')\n",
    "print(f'Vector 2 length: {np.linalg.norm(eigenvectors[:,1])}')\n",
    "print(f'Vector 1 orthogonal to vector 2, if dot product is zero; dot product: {np.dot(eigenvectors[:,0],eigenvectors[:,1])}')"
   ]
  },
  {
   "cell_type": "markdown",
   "metadata": {},
   "source": [
    "### Project the original dataset on the eigenvectors"
   ]
  },
  {
   "cell_type": "markdown",
   "metadata": {},
   "source": [
    "Compute the scores of the data points corresponding to the two principle components using simple matrix multiplication of the (transposed) loading vector with the (transposed) data vector. \n",
    "\n",
    "Matrix multiplication means calculating the dot products of row (loading) vectors and column (data) vectors. This in turn can be interpreted as the length of the projection of the data vector onto to loading vector (multiplied by the length of the loading vector which is $1$).\n",
    "\n",
    "Since the second eigenvalue of $1.6253$ is larger than the first eigenvalue of $0.3747$, we need to flip the scores left/right since the second column is first principle component (the one with the largest eigenvalue).\n",
    "\n",
    "In `Matlab`, the operation `A'` computes the transpose $A^T$ of a matrix $A$."
   ]
  },
  {
   "cell_type": "code",
   "execution_count": 165,
   "metadata": {},
   "outputs": [
    {
     "data": {
      "text/plain": [
       "array([[-0.7071068 ,  0.70710677],\n",
       "       [-0.70710677, -0.7071068 ]])"
      ]
     },
     "execution_count": 165,
     "metadata": {},
     "output_type": "execute_result"
    }
   ],
   "source": [
    "eigenvectors_t = np.transpose(eigenvectors)\n",
    "eigenvectors_t"
   ]
  },
  {
   "cell_type": "code",
   "execution_count": 166,
   "metadata": {},
   "outputs": [],
   "source": [
    "score = np.dot(eigenvectors_t, np.transpose(std_data))\n",
    "score = np.transpose(score)\n",
    "score = score[:,::-1]"
   ]
  },
  {
   "cell_type": "markdown",
   "metadata": {},
   "source": [
    "Check the correlation of the scores. As expected:"
   ]
  },
  {
   "cell_type": "code",
   "execution_count": 167,
   "metadata": {},
   "outputs": [
    {
     "data": {
      "text/plain": [
       "array([[ 1.00000000e+00, -8.99242819e-17],\n",
       "       [-8.99242819e-17,  1.00000000e+00]])"
      ]
     },
     "execution_count": 167,
     "metadata": {},
     "output_type": "execute_result"
    }
   ],
   "source": [
    "np.corrcoef(score, rowvar=False)"
   ]
  },
  {
   "cell_type": "markdown",
   "metadata": {},
   "source": [
    "Produce a biplot of the scores and loading vectors of the two principle components."
   ]
  },
  {
   "cell_type": "code",
   "execution_count": 168,
   "metadata": {},
   "outputs": [
    {
     "data": {
      "image/png": "[encoded data removed]",
      "text/plain": [
       "<Figure size 640x480 with 1 Axes>"
      ]
     },
     "metadata": {},
     "output_type": "display_data"
    }
   ],
   "source": [
    "plt.scatter(score[:,0], score[:,1], c='r', s=2)\n",
    "\n",
    "x1 = eigenvectors_t[1, 0] # secton eigenvector comes with highest eigenvalue\n",
    "y1 = eigenvectors_t[1, 1]\n",
    "plt.arrow(0, 0, x1, y1, color='b', alpha=0.5)\n",
    "plt.text(x1, y1, \"V1\")\n",
    "\n",
    "x2 = eigenvectors_t[0, 0]\n",
    "y2 = eigenvectors_t[0, 1]\n",
    "plt.arrow(0, 0, x2, y2, color='b', alpha=0.5)\n",
    "plt.text(x2, y2, \"V2\")\n",
    "\n",
    "plt.xlabel('Compoment 1')\n",
    "plt.ylabel('Compoment 2')\n",
    "plt.show()"
   ]
  },
  {
   "cell_type": "markdown",
   "metadata": {},
   "source": [
    "The eigenvalues of the covariance matrix indicate the variance in this (new) coordinate direction. We can use this information to calculate the relative variance explained by each component: for each component, we divide the variances according to the eigenvectors by the sum of the variances. In our example, the 1st and 2nd principal component contains $81.26$ and $16.74$ percent of the total variance in data.\n",
    "\n",
    "\n",
    "\n",
    "*In my case, the 1st and 2nd principal component contains $72.00$ and $27.99$ percent of the total variance in data.*"
   ]
  },
  {
   "cell_type": "code",
   "execution_count": 169,
   "metadata": {},
   "outputs": [
    {
     "name": "stdout",
     "output_type": "stream",
     "text": [
      "[1.42578684 0.55421324]\n",
      "[0.72009434 0.27990566]\n"
     ]
    }
   ],
   "source": [
    "print(np.var(score, axis=0))\n",
    "print(np.var(score, axis=0)/np.sum(np.var(score, axis=0)))"
   ]
  },
  {
   "cell_type": "markdown",
   "metadata": {},
   "source": [
    "*Why does this look differently compared to the plot when using the `pca` library? Here the answer. Mind the orientation could be different.*\n",
    "\n",
    "\n",
    "Answer: *When using the pca library we did not use standardized data. If we repeat this with standardized data, we would another picture. (See following cells ... the story will continue)*"
   ]
  },
  {
   "cell_type": "code",
   "execution_count": 170,
   "metadata": {},
   "outputs": [
    {
     "name": "stdout",
     "output_type": "stream",
     "text": [
      "loading vector: [[ 0.70710677  0.7071068 ]\n",
      " [-0.7071068   0.70710677]]\n",
      "eigenvalues: [1.44018873 0.55981135]\n",
      "variability explained: [0.72009434 0.27990566]\n"
     ]
    }
   ],
   "source": [
    "\n",
    "pca = PCA(n_components=2)\n",
    "\n",
    "pca.fit(std_data)\n",
    "\n",
    "loading_vector = pca.components_\n",
    "eigenvalues = pca.explained_variance_\n",
    "variability_explained = pca.explained_variance_ratio_\n",
    "pca_score = pca.transform(std_data)\n",
    "\n",
    "print(f'loading vector: {loading_vector}')\n",
    "print(f'eigenvalues: {eigenvalues}')\n",
    "print(f'variability explained: {variability_explained}')"
   ]
  },
  {
   "cell_type": "code",
   "execution_count": 186,
   "metadata": {},
   "outputs": [
    {
     "data": {
      "image/png": "[encoded data removed]",
      "text/plain": [
       "<Figure size 640x480 with 1 Axes>"
      ]
     },
     "metadata": {},
     "output_type": "display_data"
    }
   ],
   "source": [
    "plt.scatter(pca_score[:,0], pca_score[:,1], c='r', s=2)\n",
    "\n",
    "x1 = loading_vector[0, 0]\n",
    "y1 = loading_vector[0, 1]\n",
    "plt.arrow(0, 0, x1, y1, color='b', alpha=0.5)\n",
    "plt.text(x1, y1, \"V1\")\n",
    "\n",
    "x2 = loading_vector[1, 0]\n",
    "y2 = loading_vector[1, 1]\n",
    "plt.arrow(0, 0, x2, y2, color='b', alpha=0.5)\n",
    "plt.text(x2, y2, \"V2\")\n",
    "\n",
    "plt.xlabel('Compoment 1')\n",
    "plt.ylabel('Compoment 2')\n",
    "plt.show()"
   ]
  },
  {
   "cell_type": "markdown",
   "metadata": {},
   "source": [
    "*Done this, we anyway got another picture compared to the one we got, when we did it step by step. However, there is still a difference in the orientation, which doesn't really matter when working with vectrices. Anyway, I can fix this by looking at the eigenvectors calculated step by step and compare them to the eigenvectors calculated by the pca lib.*"
   ]
  },
  {
   "cell_type": "code",
   "execution_count": 187,
   "metadata": {},
   "outputs": [
    {
     "data": {
      "text/plain": [
       "array([[ 0.70710677,  0.7071068 ],\n",
       "       [-0.7071068 ,  0.70710677]])"
      ]
     },
     "execution_count": 187,
     "metadata": {},
     "output_type": "execute_result"
    }
   ],
   "source": [
    "loading_vector"
   ]
  },
  {
   "cell_type": "code",
   "execution_count": 172,
   "metadata": {},
   "outputs": [
    {
     "data": {
      "text/plain": [
       "array([[-0.7071068 , -0.70710677],\n",
       "       [ 0.70710677, -0.7071068 ]])"
      ]
     },
     "execution_count": 172,
     "metadata": {},
     "output_type": "execute_result"
    }
   ],
   "source": [
    "eigenvectors"
   ]
  },
  {
   "cell_type": "markdown",
   "metadata": {},
   "source": [
    "*We see that the vector of the first component (in ```loadin_vectors``` the first row; in ```eigenvectors``` the second column) has different signs. That why they point in different directions, even if they have a unit length. If we flip the sign of the second eigenvector and calulate the scores again, we would get the same picture as with pca lib*"
   ]
  },
  {
   "cell_type": "code",
   "execution_count": 173,
   "metadata": {},
   "outputs": [
    {
     "data": {
      "text/plain": [
       "array([[-0.7071068 ,  0.70710677],\n",
       "       [ 0.70710677,  0.7071068 ]])"
      ]
     },
     "execution_count": 173,
     "metadata": {},
     "output_type": "execute_result"
    }
   ],
   "source": [
    "eigenvectors_neg = eigenvectors\n",
    "eigenvectors_neg[:,1] = -1 * eigenvectors[:,1]\n",
    "eigenvectors_neg"
   ]
  },
  {
   "cell_type": "code",
   "execution_count": 174,
   "metadata": {},
   "outputs": [
    {
     "data": {
      "text/plain": [
       "array([[-0.7071068 ,  0.70710677],\n",
       "       [ 0.70710677,  0.7071068 ]])"
      ]
     },
     "execution_count": 174,
     "metadata": {},
     "output_type": "execute_result"
    }
   ],
   "source": [
    "eigenvectors_neg_t = np.transpose(eigenvectors_neg)\n",
    "eigenvectors_neg_t"
   ]
  },
  {
   "cell_type": "code",
   "execution_count": 175,
   "metadata": {},
   "outputs": [],
   "source": [
    "score_neg = np.dot(eigenvectors_neg_t, np.transpose(std_data))\n",
    "score_neg = np.transpose(score_neg)\n",
    "score_neg = score_neg[:,::-1]"
   ]
  },
  {
   "cell_type": "code",
   "execution_count": 176,
   "metadata": {},
   "outputs": [
    {
     "data": {
      "image/png": "[encoded data removed]",
      "text/plain": [
       "<Figure size 640x480 with 1 Axes>"
      ]
     },
     "metadata": {},
     "output_type": "display_data"
    }
   ],
   "source": [
    "plt.scatter(score_neg[:,0], score_neg[:,1], c='r', s=2)\n",
    "\n",
    "x1 = eigenvectors_neg_t[1, 0] # secton eigenvector comes with highest eigenvalue\n",
    "y1 = eigenvectors_neg_t[1, 1]\n",
    "plt.arrow(0, 0, x1, y1, color='b', alpha=0.5)\n",
    "plt.text(x1, y1, \"V1\")\n",
    "\n",
    "x2 = eigenvectors_neg_t[0, 0]\n",
    "y2 = eigenvectors_neg_t[0, 1]\n",
    "plt.arrow(0, 0, x2, y2, color='b', alpha=0.5)\n",
    "plt.text(x2, y2, \"V2\")\n",
    "\n",
    "plt.xlabel('Compoment 1')\n",
    "plt.ylabel('Compoment 2')\n",
    "plt.show()"
   ]
  },
  {
   "cell_type": "markdown",
   "metadata": {},
   "source": [
    "*Now we got the same picture like when doing it with the pca lib.*"
   ]
  },
  {
   "cell_type": "markdown",
   "metadata": {},
   "source": [
    "## Perform eigendecomposition step-by-step"
   ]
  },
  {
   "cell_type": "markdown",
   "metadata": {},
   "source": [
    "### Eigenvalues"
   ]
  },
  {
   "cell_type": "markdown",
   "metadata": {},
   "source": [
    "We find the eigenvalues of an $n\\times n$ (covariance) matrix $C$ by solving the so-called characteristic equation\n",
    "$\\det(C – \\lambda I) = 0$ where $I$ is the identity matrix of size $n$."
   ]
  },
  {
   "cell_type": "markdown",
   "metadata": {},
   "source": [
    "Here $C=\\mathit{Cov}$ is a $2\\times 2$ matrix and the determinant of such a matrix is defiend as $\\det(C)=c_{11}c_{22}-c_{12}c_{21}$. Hence, we need to solve:\n",
    "\n",
    "\\begin{align}\n",
    "\\det(\\mathit{Cov} – \\lambda I) &=(\\mathit{Cov}_{11}-\\lambda)(\\mathit{Cov}_{22}-\\lambda)-\\mathit{Cov}_{12}\\mathit{Cov}_{21}\\\\\n",
    "    &=\\lambda^2 -(\\mathit{Cov}_{11}+\\mathit{Cov}_{22})\\lambda +\\mathit{Cov}_{11}\\mathit{Cov}_{22} -\\mathit{Cov}_{12}\\mathit{Cov}_{21}\\\\\n",
    "    &=0\n",
    "\\end{align}\n",
    "\n",
    "It's a quadriatic equation in $\\lambda$ with, in general, two solutions."
   ]
  },
  {
   "cell_type": "code",
   "execution_count": 177,
   "metadata": {},
   "outputs": [
    {
     "data": {
      "text/plain": [
       "array([[1.00000002, 0.44018869],\n",
       "       [0.44018869, 1.00000006]])"
      ]
     },
     "execution_count": 177,
     "metadata": {},
     "output_type": "execute_result"
    }
   ],
   "source": [
    "cov"
   ]
  },
  {
   "cell_type": "code",
   "execution_count": 178,
   "metadata": {},
   "outputs": [
    {
     "data": {
      "text/plain": [
       "array([1.44018873, 0.55981135])"
      ]
     },
     "execution_count": 178,
     "metadata": {},
     "output_type": "execute_result"
    }
   ],
   "source": [
    "a = 1\n",
    "b = -(cov[0,0]+cov[1,1])\n",
    "c = cov[0,0]*cov[1,1] - cov[0,1]*cov[1,0]\n",
    "\n",
    "coefficients = [a, b, c]\n",
    "\n",
    "eigenvalues = np.roots(coefficients)\n",
    "eigenvalues"
   ]
  },
  {
   "cell_type": "markdown",
   "metadata": {},
   "source": [
    "Let's test the two solutions $\\lambda_1$ and $\\lambda_2$. As expected:"
   ]
  },
  {
   "cell_type": "code",
   "execution_count": 179,
   "metadata": {},
   "outputs": [
    {
     "data": {
      "text/plain": [
       "3.176599664356743e-16"
      ]
     },
     "execution_count": 179,
     "metadata": {},
     "output_type": "execute_result"
    }
   ],
   "source": [
    "lambda1 = np.diag([eigenvalues[0], eigenvalues[0]])\n",
    "Char1 = cov - lambda1\n",
    "np.linalg.det(Char1)"
   ]
  },
  {
   "cell_type": "code",
   "execution_count": 180,
   "metadata": {},
   "outputs": [
    {
     "data": {
      "text/plain": [
       "9.774152367956042e-17"
      ]
     },
     "execution_count": 180,
     "metadata": {},
     "output_type": "execute_result"
    }
   ],
   "source": [
    "lambda2 = np.diag([eigenvalues[1], eigenvalues[1]])\n",
    "Char2 = cov - lambda2\n",
    "np.linalg.det(Char2)"
   ]
  },
  {
   "cell_type": "markdown",
   "metadata": {},
   "source": [
    "### Eigenvectors"
   ]
  },
  {
   "cell_type": "markdown",
   "metadata": {},
   "source": [
    "All that's left is to find the two eigenvectors $v_1, v_2$. We understand that by definition:\n",
    "\n",
    "\\begin{align}\n",
    "Cv&=\\lambda v\\\\\n",
    "Cv-\\lambda v&=0\\\\\n",
    "Cv-\\lambda I v&=0\\\\\n",
    "(C-\\lambda I) v&=0\\\\\n",
    "\\end{align}\n",
    "\n",
    "This is nothing but solving a linear equation system."
   ]
  },
  {
   "cell_type": "markdown",
   "metadata": {},
   "source": [
    "Before, we compute the eigenvector $v_1$ associated with the eigenvalue $\\lambda_1=1.44018873$, we first, check if a solution exits. Therfore, we compute the rank, the determinat, and the reduced row echelon form of the matrix $A_1=C – \\lambda_1 I$.\n",
    "\n",
    "In `Matlab` the function `rref` computes the [reduced row echelon form](https://en.wikipedia.org/wiki/Row_echelon_form) of a matrix resulting from a [Gaussian elimination](https://en.wikipedia.org/wiki/Gaussian_elimination)."
   ]
  },
  {
   "cell_type": "code",
   "execution_count": 181,
   "metadata": {},
   "outputs": [
    {
     "name": "stdout",
     "output_type": "stream",
     "text": [
      "[[-0.44018871  0.44018869]\n",
      " [ 0.44018869 -0.44018867]]\n",
      "Rank: 1\n",
      "Det: 3.176599664356743e-16\n"
     ]
    },
    {
     "data": {
      "text/plain": [
       "array([[ 1.        , -0.99999995],\n",
       "       [-0.        ,  1.        ]])"
      ]
     },
     "execution_count": 181,
     "metadata": {},
     "output_type": "execute_result"
    }
   ],
   "source": [
    "\n",
    "\n",
    "def gaussian_elimination(matrix):\n",
    "    \"\"\"Perform Gaussian elimination on a matrix.\"\"\"\n",
    "    M = matrix.copy()\n",
    "    rows, cols = M.shape\n",
    "    for i in range(min(rows, cols)):\n",
    "        # Find the pivot row\n",
    "        pivot_row = np.argmax(np.abs(M[i:, i])) + i\n",
    "        # Swap the current row with the pivot row\n",
    "        M[[i, pivot_row]] = M[[pivot_row, i]]\n",
    "        # Make the diagonal element 1\n",
    "        M[i] /= M[i, i]\n",
    "        # Eliminate all other entries in the current column\n",
    "        for j in range(i + 1, rows):\n",
    "            M[j] -= M[j, i] * M[i]\n",
    "    return M\n",
    "\n",
    "A1 = cov - lambda1\n",
    "print(A1)\n",
    "A1_rank = np.linalg.matrix_rank(A1)\n",
    "print(f'Rank: {A1_rank}')\n",
    "A1_det = np.linalg.det(A1)\n",
    "print(f'Det: {A1_det}')\n",
    "A1_red = gaussian_elimination(A1)\n",
    "A1_red"
   ]
  },
  {
   "cell_type": "markdown",
   "metadata": {},
   "source": [
    "As we see, we have a *general* problem: the matrix $A_1$ is not fully ranked, hence, the linear equation system is underdetermined, i.e. we have infinitly many solution. That's expected as there are infinite (eigen-) vectors with the same span. Consequently, its deteminat is 0 and $A_1$ is, hence, not invertible."
   ]
  },
  {
   "cell_type": "markdown",
   "metadata": {},
   "source": [
    "However, if we get tge direction right, the length and the orientation of an eigenvector $v$ are arbitrary. So we can set the last entry to anything, say $v_1(2) =1$, compute $v_1(1)$, and then fix the length of $v$ to get a unit vector. \n",
    "\n",
    "Let $𝐴_1$ be in reduced row echelon form, i.e. $A_1(i,i)=1$, and $v_1(2) =1$. The linear equation reduces to\n",
    "\n",
    "\\begin{align}\n",
    "A_1(1,1)v_1(1) + A_1(1,2)v_1(2) & = 0\\\\\n",
    "1v_1(1) + A_1(1,2)1 & = 0\\\\\n",
    "v_1(1) + A_1(1,2) & = 0\\\\\n",
    "v_1(1) & = - A_1(1,2) \\\\\n",
    "\\end{align}\n",
    "\n",
    "To make it a unit length vector, we divide by the length ($L2$-norm) of the vector."
   ]
  },
  {
   "cell_type": "code",
   "execution_count": 182,
   "metadata": {},
   "outputs": [
    {
     "name": "stdout",
     "output_type": "stream",
     "text": [
      "eigenvector1: [0.70710677 0.7071068 ]\n"
     ]
    }
   ],
   "source": [
    "v1 = [-A1_red[0,1],1]\n",
    "eigenvector1 = v1/np.linalg.norm(v1)\n",
    "print(f'eigenvector1: {eigenvector1}')"
   ]
  },
  {
   "cell_type": "markdown",
   "metadata": {},
   "source": [
    "Finally, we are ready to compute the eigenvector $v_2$ associated with the eigenvalue $\\lambda_2=0.55981135$ in the same way."
   ]
  },
  {
   "cell_type": "code",
   "execution_count": 183,
   "metadata": {},
   "outputs": [
    {
     "name": "stdout",
     "output_type": "stream",
     "text": [
      "[[0.44018867 0.44018869]\n",
      " [0.44018869 0.44018871]]\n",
      "A2_red: [[ 1.          1.00000005]\n",
      " [-0.          1.        ]]\n",
      "eigenvector2: [-0.7071068   0.70710677]\n"
     ]
    }
   ],
   "source": [
    "A2 = cov - lambda2\n",
    "print(A2)\n",
    "A2_red = gaussian_elimination(A2)\n",
    "print(f'A2_red: {A2_red}')\n",
    "v2 = [-A2_red[0,1],1]\n",
    "eigenvector2 = v2/np.linalg.norm(v2)\n",
    "print(f'eigenvector2: {eigenvector2}')"
   ]
  },
  {
   "cell_type": "markdown",
   "metadata": {},
   "source": [
    "## References"
   ]
  },
  {
   "cell_type": "markdown",
   "metadata": {},
   "source": [
    "1. http://mres.uni-potsdam.de/index.php/2017/09/14/principal-component-analysis-in-6-steps/\n",
    "2. https://www.youtube.com/watch?v=ssfMqFycXOU"
   ]
  }
 ],
 "metadata": {
  "kernelspec": {
   "display_name": "DML",
   "language": "python",
   "name": "dml"
  },
  "language_info": {
   "codemirror_mode": {
    "name": "ipython",
    "version": 3
   },
   "file_extension": ".py",
   "mimetype": "text/x-python",
   "name": "python",
   "nbconvert_exporter": "python",
   "pygments_lexer": "ipython3",
   "version": "3.10.12"
  }
 },
 "nbformat": 4,
 "nbformat_minor": 2
}
